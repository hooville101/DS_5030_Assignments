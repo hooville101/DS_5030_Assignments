{
 "cells": [
  {
   "cell_type": "markdown",
   "id": "87b91d83",
   "metadata": {},
   "source": [
    "# Assignment 1\n",
    "### Understanding Uncertainty\n",
    "### Due 9/5"
   ]
  },
  {
   "cell_type": "markdown",
   "id": "380e339f",
   "metadata": {},
   "source": [
    "1. Create a new public repo on Github under your account. Include a readme file.\n",
    "2. Clone it to your machine. Put this file into that repo.\n",
    "3. Use the following function to download the example data for the course:"
   ]
  },
  {
   "cell_type": "code",
   "execution_count": 1,
   "id": "2d62b4f6",
   "metadata": {},
   "outputs": [
    {
     "name": "stdout",
     "output_type": "stream",
     "text": [
      "Downloading course data\n",
      "Download complete\n",
      "Extracting data files...\n",
      "Data extracted\n"
     ]
    }
   ],
   "source": [
    "def download_data(force=False):\n",
    "    \"\"\"Download and extract course data from Zenodo.\"\"\"\n",
    "    import urllib.request, zipfile, os\n",
    "    \n",
    "    zip_path = 'data.zip'\n",
    "    data_dir = 'data'\n",
    "    \n",
    "    if not os.path.exists(zip_path) or force:\n",
    "        print(\"Downloading course data\")\n",
    "        urllib.request.urlretrieve(\n",
    "            'https://zenodo.org/records/16954427/files/data.zip?download=1',\n",
    "            zip_path\n",
    "        )\n",
    "        print(\"Download complete\")\n",
    "    else:\n",
    "        print(\"Download file already exists\")\n",
    "        \n",
    "    if not os.path.exists(data_dir) or force:\n",
    "        print(\"Extracting data files...\")\n",
    "        with zipfile.ZipFile(zip_path, 'r') as zip_ref:\n",
    "            zip_ref.extractall(data_dir)\n",
    "        print(\"Data extracted\")\n",
    "    else:\n",
    "        print(\"Data directory already exists\")\n",
    "\n",
    "download_data()"
   ]
  },
  {
   "cell_type": "markdown",
   "id": "01db0045",
   "metadata": {},
   "source": [
    "4. Open one of the datasets using Pandas:\n",
    "    1. `ames_prices.csv`: Housing characteristics and prices\n",
    "    2. `college_completion.csv`: Public, nonprofit, and for-profit educational institutions, graduation rates, and financial aid\n",
    "    3. `ForeignGifts_edu.csv`: Monetary and in-kind transfers from foreign entities to U.S. educational institutions\n",
    "    4. `iowa.csv`: Liquor sales in Iowa, at the transaction level\n",
    "    5. `metabric.csv`: Cancer patient and outcome data\n",
    "    6. `mn_police_use_of_force.csv`: Records of physical altercations between Minnessota police and private citizens\n",
    "    7. `nhanes_data_17_18.csv`: National Health and Nutrition Examination Survey\n",
    "    8. `tuna.csv`: Yellowfin Tuna Genome (I don't recommend this one; it's just a sequence of G, C, A, T )\n",
    "    9. `va_procurement.csv`: Public spending by the state of Virginia"
   ]
  },
  {
   "cell_type": "code",
   "execution_count": 2,
   "id": "45c9c42b",
   "metadata": {},
   "outputs": [
    {
     "name": "stdout",
     "output_type": "stream",
     "text": [
      "   Age at Diagnosis Type of Breast Surgery    Cancer Type Chemotherapy  \\\n",
      "0             43.19      BREAST CONSERVING  Breast Cancer           NO   \n",
      "1             48.87             MASTECTOMY  Breast Cancer          YES   \n",
      "2             47.68             MASTECTOMY  Breast Cancer          YES   \n",
      "3             76.97             MASTECTOMY  Breast Cancer          YES   \n",
      "4             78.77             MASTECTOMY  Breast Cancer           NO   \n",
      "\n",
      "  Hormone Therapy  Lymph nodes examined positive  Mutation Count  \\\n",
      "0             YES                            0.0             2.0   \n",
      "1             YES                            1.0             2.0   \n",
      "2             YES                            3.0             1.0   \n",
      "3             YES                            8.0             2.0   \n",
      "4             YES                            0.0             4.0   \n",
      "\n",
      "   Nottingham prognostic index  Overall Survival (Months)  \\\n",
      "0                        4.020                  84.633333   \n",
      "1                        4.030                 163.700000   \n",
      "2                        4.050                 164.933333   \n",
      "3                        6.080                  41.366667   \n",
      "4                        4.062                   7.800000   \n",
      "\n",
      "  Overall Survival Status Radio Therapy  TMB (nonsynonymous)  Tumor Size  \\\n",
      "0                0:LIVING           YES             2.615035        10.0   \n",
      "1              1:DECEASED            NO             2.615035        15.0   \n",
      "2                0:LIVING           YES             1.307518        25.0   \n",
      "3              1:DECEASED           YES             2.615035        40.0   \n",
      "4              1:DECEASED           YES             5.230071        31.0   \n",
      "\n",
      "   Tumor Stage  \n",
      "0          1.0  \n",
      "1          2.0  \n",
      "2          2.0  \n",
      "3          2.0  \n",
      "4          4.0  \n",
      "<class 'pandas.core.frame.DataFrame'>\n",
      "RangeIndex: 1343 entries, 0 to 1342\n",
      "Data columns (total 14 columns):\n",
      " #   Column                         Non-Null Count  Dtype  \n",
      "---  ------                         --------------  -----  \n",
      " 0   Age at Diagnosis               1343 non-null   float64\n",
      " 1   Type of Breast Surgery         1343 non-null   object \n",
      " 2   Cancer Type                    1343 non-null   object \n",
      " 3   Chemotherapy                   1343 non-null   object \n",
      " 4   Hormone Therapy                1343 non-null   object \n",
      " 5   Lymph nodes examined positive  1343 non-null   float64\n",
      " 6   Mutation Count                 1343 non-null   float64\n",
      " 7   Nottingham prognostic index    1343 non-null   float64\n",
      " 8   Overall Survival (Months)      1343 non-null   float64\n",
      " 9   Overall Survival Status        1343 non-null   object \n",
      " 10  Radio Therapy                  1343 non-null   object \n",
      " 11  TMB (nonsynonymous)            1343 non-null   float64\n",
      " 12  Tumor Size                     1343 non-null   float64\n",
      " 13  Tumor Stage                    1343 non-null   float64\n",
      "dtypes: float64(8), object(6)\n",
      "memory usage: 147.0+ KB\n",
      "None\n"
     ]
    }
   ],
   "source": [
    "import pandas as pd\n",
    "\n",
    "df = pd.read_csv('./data/metabric.csv')\n",
    "\n",
    "print(df.head())\n",
    "print(df.info())"
   ]
  },
  {
   "cell_type": "markdown",
   "id": "fa5cade1",
   "metadata": {},
   "source": [
    "5. Pick two or three variables and briefly analyze them\n",
    "    - Is it a categorical or numeric variable?\n",
    "    - How many missing values are there? (`df['var'].isna()` and `np.sum()`)\n",
    "    - If categorical, tabulate the values (`df['var'].value_counts()`) and if numeric, get a summary (`df['var'].describe()`)"
   ]
  },
  {
   "cell_type": "code",
   "execution_count": 3,
   "id": "0d5ae1b7",
   "metadata": {},
   "outputs": [
    {
     "name": "stdout",
     "output_type": "stream",
     "text": [
      "=== Age at Diagnosis ===\n",
      "Missing values: 0\n",
      "count    1343.000000\n",
      "mean       60.598079\n",
      "std        12.966330\n",
      "min        21.930000\n",
      "25%        51.045000\n",
      "50%        61.140000\n",
      "75%        69.815000\n",
      "max        96.290000\n",
      "Name: Age at Diagnosis, dtype: float64 \n",
      "\n",
      "=== Chemotherapy ===\n",
      "Missing values: 0\n",
      "Chemotherapy\n",
      "NO     1057\n",
      "YES     286\n",
      "Name: count, dtype: int64 \n",
      "\n",
      "=== Tumor Size ===\n",
      "Missing values: 0\n",
      "count    1343.000000\n",
      "mean       25.787416\n",
      "std        14.754791\n",
      "min         1.000000\n",
      "25%        17.000000\n",
      "50%        22.000000\n",
      "75%        30.000000\n",
      "max       180.000000\n",
      "Name: Tumor Size, dtype: float64 \n",
      "\n"
     ]
    }
   ],
   "source": [
    "# Variable 1: Age at Diagnosis (numeric)\n",
    "print(\"=== Age at Diagnosis ===\")\n",
    "print(\"Missing values:\", df['Age at Diagnosis'].isna().sum())\n",
    "print(df['Age at Diagnosis'].describe(), \"\\n\")\n",
    "\n",
    "# Variable 2: Chemotherapy (categorical)\n",
    "print(\"=== Chemotherapy ===\")\n",
    "print(\"Missing values:\", df['Chemotherapy'].isna().sum())\n",
    "print(df['Chemotherapy'].value_counts(), \"\\n\")\n",
    "\n",
    "# Variable 3: Tumor Size (numeric)\n",
    "print(\"=== Tumor Size ===\")\n",
    "print(\"Missing values:\", df['Tumor Size'].isna().sum())\n",
    "print(df['Tumor Size'].describe(), \"\\n\")"
   ]
  },
  {
   "cell_type": "markdown",
   "id": "dbf2318a",
   "metadata": {},
   "source": [
    "6. What are some questions and prediction tools you could create using these data? Who would the stakeholder be for that prediction tool? What practical or ethical questions would it create? What other data would you want, that are not available in your data?"
   ]
  },
  {
   "cell_type": "markdown",
   "id": "54905b6d",
   "metadata": {},
   "source": [
    "### Part 6: Questions, Stakeholders, and Ethics\n",
    "\n",
    "**Possible questions/prediction tools**  \n",
    "- Predict overall survival time from age, tumor size, and treatment variables  \n",
    "- Estimate likelihood of benefit from chemotherapy or hormone therapy  \n",
    "\n",
    "**Stakeholders**  \n",
    "- Doctors and oncologists (treatment planning)  \n",
    "- Patients and families (decision making)  \n",
    "- Researchers and healthcare systems (clinical trials, resources)  \n",
    "\n",
    "**Practical and ethical issues**  \n",
    "- Accuracy of predictions and risk of harm  \n",
    "- Bias if data are not representative  \n",
    "- Patient privacy and consent  \n",
    "\n",
    "**Other useful data**  \n",
    "- Genetic biomarkers  \n",
    "- Lifestyle and socioeconomic factors  \n",
    "- Treatment follow-up and quality of life  "
   ]
  },
  {
   "cell_type": "markdown",
   "id": "a4a7ddc7",
   "metadata": {},
   "source": [
    "7. Commit your work to the repo (`git commit -am 'Finish assignment'` at the command line, or use the Git panel in VS Code). Push your work back to Github and submit the link on Canvas in the assignment tab."
   ]
  }
 ],
 "metadata": {
  "kernelspec": {
   "display_name": "base",
   "language": "python",
   "name": "python3"
  },
  "language_info": {
   "codemirror_mode": {
    "name": "ipython",
    "version": 3
   },
   "file_extension": ".py",
   "mimetype": "text/x-python",
   "name": "python",
   "nbconvert_exporter": "python",
   "pygments_lexer": "ipython3",
   "version": "3.13.5"
  }
 },
 "nbformat": 4,
 "nbformat_minor": 5
}
